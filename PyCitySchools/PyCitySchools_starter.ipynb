{
 "cells": [
  {
   "cell_type": "markdown",
   "metadata": {},
   "source": [
    "### Note\n",
    "* Instructions have been included for each segment. You do not have to follow them exactly, but they are included to help you think through the steps."
   ]
  },
  {
   "cell_type": "code",
   "execution_count": 1,
   "metadata": {},
   "outputs": [
    {
     "data": {
      "text/html": [
       "<div>\n",
       "<style scoped>\n",
       "    .dataframe tbody tr th:only-of-type {\n",
       "        vertical-align: middle;\n",
       "    }\n",
       "\n",
       "    .dataframe tbody tr th {\n",
       "        vertical-align: top;\n",
       "    }\n",
       "\n",
       "    .dataframe thead th {\n",
       "        text-align: right;\n",
       "    }\n",
       "</style>\n",
       "<table border=\"1\" class=\"dataframe\">\n",
       "  <thead>\n",
       "    <tr style=\"text-align: right;\">\n",
       "      <th></th>\n",
       "      <th>Student ID</th>\n",
       "      <th>student_name</th>\n",
       "      <th>gender</th>\n",
       "      <th>grade</th>\n",
       "      <th>school_name</th>\n",
       "      <th>reading_score</th>\n",
       "      <th>math_score</th>\n",
       "      <th>passing_math</th>\n",
       "      <th>passing_reading</th>\n",
       "      <th>passing_overall</th>\n",
       "      <th>School ID</th>\n",
       "      <th>type</th>\n",
       "      <th>enrollment</th>\n",
       "      <th>budget</th>\n",
       "      <th>per_student_budget</th>\n",
       "    </tr>\n",
       "  </thead>\n",
       "  <tbody>\n",
       "    <tr>\n",
       "      <th>0</th>\n",
       "      <td>0</td>\n",
       "      <td>Paul Bradley</td>\n",
       "      <td>M</td>\n",
       "      <td>9th</td>\n",
       "      <td>Huang High School</td>\n",
       "      <td>66</td>\n",
       "      <td>79</td>\n",
       "      <td>1.0</td>\n",
       "      <td>0.0</td>\n",
       "      <td>0.0</td>\n",
       "      <td>0</td>\n",
       "      <td>District</td>\n",
       "      <td>2917</td>\n",
       "      <td>1910635</td>\n",
       "      <td>655.0</td>\n",
       "    </tr>\n",
       "    <tr>\n",
       "      <th>1</th>\n",
       "      <td>1</td>\n",
       "      <td>Victor Smith</td>\n",
       "      <td>M</td>\n",
       "      <td>12th</td>\n",
       "      <td>Huang High School</td>\n",
       "      <td>94</td>\n",
       "      <td>61</td>\n",
       "      <td>0.0</td>\n",
       "      <td>1.0</td>\n",
       "      <td>0.0</td>\n",
       "      <td>0</td>\n",
       "      <td>District</td>\n",
       "      <td>2917</td>\n",
       "      <td>1910635</td>\n",
       "      <td>655.0</td>\n",
       "    </tr>\n",
       "    <tr>\n",
       "      <th>2</th>\n",
       "      <td>2</td>\n",
       "      <td>Kevin Rodriguez</td>\n",
       "      <td>M</td>\n",
       "      <td>12th</td>\n",
       "      <td>Huang High School</td>\n",
       "      <td>90</td>\n",
       "      <td>60</td>\n",
       "      <td>0.0</td>\n",
       "      <td>1.0</td>\n",
       "      <td>0.0</td>\n",
       "      <td>0</td>\n",
       "      <td>District</td>\n",
       "      <td>2917</td>\n",
       "      <td>1910635</td>\n",
       "      <td>655.0</td>\n",
       "    </tr>\n",
       "    <tr>\n",
       "      <th>3</th>\n",
       "      <td>3</td>\n",
       "      <td>Dr. Richard Scott</td>\n",
       "      <td>M</td>\n",
       "      <td>12th</td>\n",
       "      <td>Huang High School</td>\n",
       "      <td>67</td>\n",
       "      <td>58</td>\n",
       "      <td>0.0</td>\n",
       "      <td>0.0</td>\n",
       "      <td>0.0</td>\n",
       "      <td>0</td>\n",
       "      <td>District</td>\n",
       "      <td>2917</td>\n",
       "      <td>1910635</td>\n",
       "      <td>655.0</td>\n",
       "    </tr>\n",
       "    <tr>\n",
       "      <th>4</th>\n",
       "      <td>4</td>\n",
       "      <td>Bonnie Ray</td>\n",
       "      <td>F</td>\n",
       "      <td>9th</td>\n",
       "      <td>Huang High School</td>\n",
       "      <td>97</td>\n",
       "      <td>84</td>\n",
       "      <td>1.0</td>\n",
       "      <td>1.0</td>\n",
       "      <td>1.0</td>\n",
       "      <td>0</td>\n",
       "      <td>District</td>\n",
       "      <td>2917</td>\n",
       "      <td>1910635</td>\n",
       "      <td>655.0</td>\n",
       "    </tr>\n",
       "  </tbody>\n",
       "</table>\n",
       "</div>"
      ],
      "text/plain": [
       "   Student ID       student_name gender grade        school_name  \\\n",
       "0           0       Paul Bradley      M   9th  Huang High School   \n",
       "1           1       Victor Smith      M  12th  Huang High School   \n",
       "2           2    Kevin Rodriguez      M  12th  Huang High School   \n",
       "3           3  Dr. Richard Scott      M  12th  Huang High School   \n",
       "4           4         Bonnie Ray      F   9th  Huang High School   \n",
       "\n",
       "   reading_score  math_score  passing_math  passing_reading  passing_overall  \\\n",
       "0             66          79           1.0              0.0              0.0   \n",
       "1             94          61           0.0              1.0              0.0   \n",
       "2             90          60           0.0              1.0              0.0   \n",
       "3             67          58           0.0              0.0              0.0   \n",
       "4             97          84           1.0              1.0              1.0   \n",
       "\n",
       "   School ID      type  enrollment   budget  per_student_budget  \n",
       "0          0  District        2917  1910635               655.0  \n",
       "1          0  District        2917  1910635               655.0  \n",
       "2          0  District        2917  1910635               655.0  \n",
       "3          0  District        2917  1910635               655.0  \n",
       "4          0  District        2917  1910635               655.0  "
      ]
     },
     "execution_count": 1,
     "metadata": {},
     "output_type": "execute_result"
    }
   ],
   "source": [
    "# Dependencies and Setup\n",
    "import pandas as pd\n",
    "\n",
    "# File to Load (Remember to Change These)\n",
    "school_data_to_load = \"Resources/schools_complete.csv\"\n",
    "student_data_to_load = \"Resources/students_complete.csv\"\n",
    "\n",
    "# Read School and Student Data File and store into Pandas DataFrames\n",
    "school_data = pd.read_csv(school_data_to_load)\n",
    "student_data = pd.read_csv(student_data_to_load)\n",
    "\n",
    "# Rename \"size\" to clarify that it refers to number of students, not area or other measure of size\n",
    "school_data = school_data.rename(columns={\"size\":\"enrollment\"})\n",
    "school_data[\"per_student_budget\"] = school_data[\"budget\"] / school_data[\"enrollment\"]\n",
    "\n",
    "# Initial evaluation of student performance: add count of 1 to indicate that student is passing\n",
    "student_data.loc[student_data[\"math_score\"] >= 70, \"passing_math\"] = 1\n",
    "student_data.loc[student_data[\"math_score\"] < 70, \"passing_math\"] = 0\n",
    "student_data.loc[student_data[\"reading_score\"] >= 70, \"passing_reading\"] = 1\n",
    "student_data.loc[student_data[\"reading_score\"] < 70, \"passing_reading\"] = 0\n",
    "student_data.loc[student_data[\"passing_math\"] + student_data[\"passing_reading\"] == 2, \"passing_overall\"] = 1\n",
    "student_data.loc[student_data[\"passing_math\"] + student_data[\"passing_reading\"] < 2, \"passing_overall\"] = 0\n",
    "\n",
    "# Combine the data into a single dataset.  \n",
    "school_data_complete = pd.merge(student_data, school_data, how=\"left\", on=[\"school_name\", \"school_name\"])\n",
    "school_data_complete.head()"
   ]
  },
  {
   "cell_type": "code",
   "execution_count": 2,
   "metadata": {},
   "outputs": [
    {
     "data": {
      "text/plain": [
       "Index(['School ID', 'school_name', 'type', 'enrollment', 'budget',\n",
       "       'per_student_budget'],\n",
       "      dtype='object')"
      ]
     },
     "execution_count": 2,
     "metadata": {},
     "output_type": "execute_result"
    }
   ],
   "source": [
    "# Evaluate data sets\n",
    "school_data.columns\n",
    "# Index(['School ID', 'school_name', 'type', 'size', 'budget'], dtype='object')\n",
    "# school_data[\"school_name\"].count()\n",
    "# 15 records\n",
    "# size = count of students attending school_name\n",
    "\n",
    "##student_data[\"Student ID\"].nunique()\n",
    "# Index(['Student ID', 'student_name', 'gender', 'grade', 'school_name','reading_score', 'math_score'],\n",
    "#      dtype='object')\n",
    "# student_data.count()\n",
    "# 39170 records, 39170 unique student IDs"
   ]
  },
  {
   "cell_type": "markdown",
   "metadata": {},
   "source": [
    "## District Summary\n",
    "\n",
    "* Calculate the total number of schools\n",
    "\n",
    "* Calculate the total number of students\n",
    "\n",
    "* Calculate the total budget\n",
    "\n",
    "* Calculate the average math score \n",
    "\n",
    "* Calculate the average reading score\n",
    "\n",
    "* Calculate the percentage of students with a passing math score (70 or greater)\n",
    "\n",
    "* Calculate the percentage of students with a passing reading score (70 or greater)\n",
    "\n",
    "* Calculate the percentage of students who passed math **and** reading (% Overall Passing)\n",
    "\n",
    "* Create a dataframe to hold the above results\n",
    "\n",
    "* Optional: give the displayed data cleaner formatting"
   ]
  },
  {
   "cell_type": "markdown",
   "metadata": {},
   "source": [
    "## Assumptions\n",
    "\n",
    "* All schools in the input file are part of the same district:\n",
    "\n",
    "    * because District identifier is not part of the input file\n",
    "\n",
    "    * in spite of type values in file = \"District\", \"Charter\"\n",
    "\n",
    "\n",
    "* All students in the input file are part of the same district:\n",
    "\n",
    "    * all schools in the student file are found in the school file\n",
    "\n",
    "    * and all schools in the school file are assumed part of same district (see above)\n"
   ]
  },
  {
   "cell_type": "code",
   "execution_count": 9,
   "metadata": {},
   "outputs": [
    {
     "data": {
      "text/html": [
       "<div>\n",
       "<style scoped>\n",
       "    .dataframe tbody tr th:only-of-type {\n",
       "        vertical-align: middle;\n",
       "    }\n",
       "\n",
       "    .dataframe tbody tr th {\n",
       "        vertical-align: top;\n",
       "    }\n",
       "\n",
       "    .dataframe thead th {\n",
       "        text-align: right;\n",
       "    }\n",
       "</style>\n",
       "<table border=\"1\" class=\"dataframe\">\n",
       "  <thead>\n",
       "    <tr style=\"text-align: right;\">\n",
       "      <th></th>\n",
       "      <th>Total Schools</th>\n",
       "      <th>Total Students</th>\n",
       "      <th>Total Budget</th>\n",
       "      <th>Average Math Score</th>\n",
       "      <th>Average Reading Score</th>\n",
       "      <th>Percent Passing Math</th>\n",
       "      <th>Percent Passing Reading</th>\n",
       "      <th>Percent Passing Overall</th>\n",
       "    </tr>\n",
       "  </thead>\n",
       "  <tbody>\n",
       "    <tr>\n",
       "      <th>0</th>\n",
       "      <td>15</td>\n",
       "      <td>39,170</td>\n",
       "      <td>$24,649,428</td>\n",
       "      <td>79.0</td>\n",
       "      <td>81.9</td>\n",
       "      <td>75.0%</td>\n",
       "      <td>85.8%</td>\n",
       "      <td>65.2%</td>\n",
       "    </tr>\n",
       "  </tbody>\n",
       "</table>\n",
       "</div>"
      ],
      "text/plain": [
       "   Total Schools Total Students Total Budget Average Math Score  \\\n",
       "0             15         39,170  $24,649,428               79.0   \n",
       "\n",
       "  Average Reading Score Percent Passing Math Percent Passing Reading  \\\n",
       "0                  81.9                75.0%                   85.8%   \n",
       "\n",
       "  Percent Passing Overall  \n",
       "0                   65.2%  "
      ]
     },
     "execution_count": 9,
     "metadata": {},
     "output_type": "execute_result"
    }
   ],
   "source": [
    "# Calculate the total number of schools\n",
    "##total_schools = school_data_complete[\"school_name\"].nunique()\n",
    "##total_schools = len(school_data)\n",
    "##total_schools = school_data[\"school_name\"].count()\n",
    "total_schools = school_data[\"school_name\"].nunique()\n",
    "\n",
    "# Calculate the total number of students\n",
    "total_students = school_data[\"enrollment\"].sum()\n",
    "\n",
    "# Calculate the total budget\n",
    "total_budget = school_data[\"budget\"].sum()\n",
    "\n",
    "# Calculate average math score\n",
    "avg_math_score = student_data[\"math_score\"].mean()\n",
    "\n",
    "# Calculate average reading score\n",
    "avg_reading_score = student_data[\"reading_score\"].mean()\n",
    "\n",
    "# Calculate the percentage of students with a passing math score (70 or greater)\n",
    "passing_math_pct = (student_data[\"passing_math\"].sum()/total_students)*100\n",
    "\n",
    "# Calculate the percentage of students with a passing reading score (70 or greater)\n",
    "passing_reading_pct = (student_data[\"passing_reading\"].sum()/total_students)*100\n",
    "\n",
    "# Calculate the percentage of students who passed math and reading (% Overall Passing)\n",
    "passing_overall_pct = (student_data[\"passing_overall\"].sum()/total_students)*100\n",
    "\n",
    "# Create dataframe of results \n",
    "district_summary_df = pd.DataFrame({\"Total Schools\" : [total_schools],\n",
    "                                    \"Total Students\" : total_students,\n",
    "                                    \"Total Budget\" : total_budget,\n",
    "                                    \"Average Math Score\" : avg_math_score,\n",
    "                                    \"Average Reading Score\" : avg_reading_score,\n",
    "                                    \"Percent Passing Math\" : passing_math_pct,\n",
    "                                    \"Percent Passing Reading\" : passing_reading_pct,\n",
    "                                    \"Percent Passing Overall\" : passing_overall_pct                                       \n",
    "                                   })\n",
    "\n",
    "# Format numbers for display\n",
    "district_summary_df[\"Total Students\"] = district_summary_df[\"Total Students\"].astype(float).map(\"{:,.0f}\".format)\n",
    "district_summary_df[\"Total Budget\"] = district_summary_df[\"Total Budget\"].astype(float).map(\"${:,.0f}\".format)\n",
    "district_summary_df[\"Average Math Score\"] = district_summary_df[\"Average Math Score\"].astype(float).map(\"{:,.1f}\".format)\n",
    "district_summary_df[\"Average Reading Score\"] = district_summary_df[\"Average Reading Score\"].astype(float).map(\"{:,.1f}\".format)\n",
    "district_summary_df[\"Percent Passing Math\"] = district_summary_df[\"Percent Passing Math\"].astype(float).map(\"{:,.1f}%\".format)\n",
    "district_summary_df[\"Percent Passing Reading\"] = district_summary_df[\"Percent Passing Reading\"].astype(float).map(\"{:,.1f}%\".format)\n",
    "district_summary_df[\"Percent Passing Overall\"] = district_summary_df[\"Percent Passing Overall\"].astype(float).map(\"{:,.1f}%\".format)\n",
    "\n",
    "district_summary_df"
   ]
  },
  {
   "cell_type": "markdown",
   "metadata": {},
   "source": [
    "## School Summary"
   ]
  },
  {
   "cell_type": "markdown",
   "metadata": {},
   "source": [
    "* Create an overview table that summarizes key metrics about each school, including:\n",
    "  * School Name\n",
    "  * School Type\n",
    "  * Total Students\n",
    "  * Total School Budget\n",
    "  * Per Student Budget\n",
    "  * Average Math Score\n",
    "  * Average Reading Score\n",
    "  * % Passing Math\n",
    "  * % Passing Reading\n",
    "  * % Overall Passing (The percentage of students that passed math **and** reading.)\n",
    "  \n",
    "* Create a dataframe to hold the above results"
   ]
  },
  {
   "cell_type": "code",
   "execution_count": 4,
   "metadata": {},
   "outputs": [
    {
     "ename": "NameError",
     "evalue": "name 'school_group' is not defined",
     "output_type": "error",
     "traceback": [
      "\u001b[1;31m---------------------------------------------------------------------------\u001b[0m",
      "\u001b[1;31mNameError\u001b[0m                                 Traceback (most recent call last)",
      "\u001b[1;32m<ipython-input-4-f5df50df5a86>\u001b[0m in \u001b[0;36m<module>\u001b[1;34m\u001b[0m\n\u001b[0;32m      3\u001b[0m \u001b[1;33m\u001b[0m\u001b[0m\n\u001b[0;32m      4\u001b[0m \u001b[1;31m# calc average scores and total counts of students passing by school\u001b[0m\u001b[1;33m\u001b[0m\u001b[1;33m\u001b[0m\u001b[1;33m\u001b[0m\u001b[0m\n\u001b[1;32m----> 5\u001b[1;33m \u001b[0mschool_avg_math_scores_df\u001b[0m \u001b[1;33m=\u001b[0m \u001b[0mschool_group\u001b[0m\u001b[1;33m[\u001b[0m\u001b[1;34m\"math_score\"\u001b[0m\u001b[1;33m]\u001b[0m\u001b[1;33m.\u001b[0m\u001b[0mmean\u001b[0m\u001b[1;33m(\u001b[0m\u001b[1;33m)\u001b[0m\u001b[1;33m\u001b[0m\u001b[1;33m\u001b[0m\u001b[0m\n\u001b[0m\u001b[0;32m      6\u001b[0m \u001b[0mschool_avg_reading_scores_df\u001b[0m \u001b[1;33m=\u001b[0m \u001b[0mschool_group\u001b[0m\u001b[1;33m[\u001b[0m\u001b[1;34m\"reading_score\"\u001b[0m\u001b[1;33m]\u001b[0m\u001b[1;33m.\u001b[0m\u001b[0mmean\u001b[0m\u001b[1;33m(\u001b[0m\u001b[1;33m)\u001b[0m\u001b[1;33m\u001b[0m\u001b[1;33m\u001b[0m\u001b[0m\n\u001b[0;32m      7\u001b[0m \u001b[0mschool_passing_math_df\u001b[0m \u001b[1;33m=\u001b[0m \u001b[0mschool_group\u001b[0m\u001b[1;33m[\u001b[0m\u001b[1;34m\"passing_math\"\u001b[0m\u001b[1;33m]\u001b[0m\u001b[1;33m.\u001b[0m\u001b[0msum\u001b[0m\u001b[1;33m(\u001b[0m\u001b[1;33m)\u001b[0m\u001b[1;33m\u001b[0m\u001b[1;33m\u001b[0m\u001b[0m\n",
      "\u001b[1;31mNameError\u001b[0m: name 'school_group' is not defined"
     ]
    }
   ],
   "source": [
    "# set up school summary dataframe with static values\n",
    "school_summary_df = school_data[[\"school_name\", \"type\", \"enrollment\", \"budget\", \"per_student_budget\"]]\n",
    "\n",
    "# calc average scores and total counts of students passing by school\n",
    "school_avg_math_scores_df = school_group[\"math_score\"].mean()\n",
    "school_avg_reading_scores_df = school_group[\"reading_score\"].mean()\n",
    "school_passing_math_df = school_group[\"passing_math\"].sum()\n",
    "school_passing_reading_df = school_group[\"passing_reading\"].sum()\n",
    "school_passing_overall_df = school_group[\"passing_overall\"].sum()\n",
    "\n",
    "# add calculated values to school summary dataframe\n",
    "school_group = school_data_complete.groupby([\"school_name\"])\n",
    "school_summary_df = pd.merge(school_summary_df, school_avg_math_scores_df, on=\"school_name\")\n",
    "school_summary_df = pd.merge(school_summary_df, school_avg_reading_scores_df, on=\"school_name\")\n",
    "school_summary_df = pd.merge(school_summary_df, school_passing_math_df, on=\"school_name\")\n",
    "school_summary_df = pd.merge(school_summary_df, school_passing_reading_df, on=\"school_name\")\n",
    "school_summary_df = pd.merge(school_summary_df, school_passing_overall_df, on=\"school_name\")\n",
    "\n",
    "# calc percent of students passing fields\n",
    "school_summary_df[\"pct_passing_math\"] = (school_summary_df[\"passing_math\"] / school_summary_df[\"enrollment\"])*100\n",
    "school_summary_df[\"pct_passing_reading\"] = (school_summary_df[\"passing_reading\"] / school_summary_df[\"enrollment\"])*100\n",
    "school_summary_df[\"pct_passing_overall\"] = (school_summary_df[\"passing_overall\"] / school_summary_df[\"enrollment\"])*100\n",
    "\n",
    "# remove total students passing fields\n",
    "school_summary_df = school_summary_df[[\"school_name\", \"type\", \"enrollment\", \"budget\", \"per_student_budget\",\n",
    "                                   \"math_score\", \"reading_score\", \n",
    "                                    \"pct_passing_math\", \"pct_passing_reading\", \"pct_passing_overall\"\n",
    "                                    ]]\n",
    "\n",
    "# rename fields for display\n",
    "school_summary_df = school_summary_df.rename(columns={\"school_name\" : \"School\",\n",
    "                                                      \"type\" : \"Type\",\n",
    "                                                      \"enrollment\" : \"Enrollment\",\n",
    "                                                      \"budget\" : \"Budget\",\n",
    "                                                      \"per_student_budget\" : \"Budget / Student\",\n",
    "                                                      \"math_score\" : \"Average Math Score\", \n",
    "                                                      \"reading_score\" : \"Average Reading Score\",\n",
    "                                                      \"pct_passing_math\" : \"Percent Passing Math\",\n",
    "                                                      \"pct_passing_reading\" : \"Percent Passing Reading\",\n",
    "                                                      \"pct_passing_overall\" : \"Percent Passing Overall\"\n",
    "                                                        })\n",
    "\n",
    "# format numeric fields in dataframe for display\n",
    "school_summary_df[\"Enrollment\"] = school_summary_df[\"Enrollment\"].astype(float).map(\"{:,.0f}\".format)\n",
    "school_summary_df[\"Budget\"] = school_summary_df[\"Budget\"].astype(float).map(\"${:,.0f}\".format)\n",
    "school_summary_df[\"Average Math Score\"] = school_summary_df[\"Average Math Score\"].astype(float).map(\"{:,.1f}\".format)\n",
    "school_summary_df[\"Average Reading Score\"] = school_summary_df[\"Average Reading Score\"].astype(float).map(\"{:,.1f}\".format)\n",
    "school_summary_df[\"Percent Passing Math\"] = school_summary_df[\"Percent Passing Math\"].astype(float).map(\"{:,.1f}%\".format)\n",
    "school_summary_df[\"Percent Passing Reading\"] = school_summary_df[\"Percent Passing Reading\"].astype(float).map(\"{:,.1f}%\".format)\n",
    "school_summary_df[\"Percent Passing Overall\"] = school_summary_df[\"Percent Passing Overall\"].astype(float).map(\"{:,.1f}%\".format)\n",
    "\n",
    "school_summary_df\n"
   ]
  },
  {
   "cell_type": "markdown",
   "metadata": {},
   "source": [
    "## Top Performing Schools (By % Overall Passing)"
   ]
  },
  {
   "cell_type": "markdown",
   "metadata": {},
   "source": [
    "* Sort and display the top five performing schools by % overall passing."
   ]
  },
  {
   "cell_type": "code",
   "execution_count": null,
   "metadata": {
    "scrolled": true
   },
   "outputs": [],
   "source": []
  },
  {
   "cell_type": "markdown",
   "metadata": {},
   "source": [
    "## Bottom Performing Schools (By % Overall Passing)"
   ]
  },
  {
   "cell_type": "markdown",
   "metadata": {},
   "source": [
    "* Sort and display the five worst-performing schools by % overall passing."
   ]
  },
  {
   "cell_type": "code",
   "execution_count": null,
   "metadata": {},
   "outputs": [],
   "source": []
  },
  {
   "cell_type": "markdown",
   "metadata": {
    "collapsed": true
   },
   "source": [
    "## Math Scores by Grade"
   ]
  },
  {
   "cell_type": "markdown",
   "metadata": {},
   "source": [
    "* Create a table that lists the average Reading Score for students of each grade level (9th, 10th, 11th, 12th) at each school.\n",
    "\n",
    "  * Create a pandas series for each grade. Hint: use a conditional statement.\n",
    "  \n",
    "  * Group each series by school\n",
    "  \n",
    "  * Combine the series into a dataframe\n",
    "  \n",
    "  * Optional: give the displayed data cleaner formatting"
   ]
  },
  {
   "cell_type": "code",
   "execution_count": null,
   "metadata": {},
   "outputs": [],
   "source": []
  },
  {
   "cell_type": "markdown",
   "metadata": {},
   "source": [
    "## Reading Score by Grade "
   ]
  },
  {
   "cell_type": "markdown",
   "metadata": {},
   "source": [
    "* Perform the same operations as above for reading scores"
   ]
  },
  {
   "cell_type": "code",
   "execution_count": null,
   "metadata": {},
   "outputs": [],
   "source": []
  },
  {
   "cell_type": "markdown",
   "metadata": {},
   "source": [
    "## Scores by School Spending"
   ]
  },
  {
   "cell_type": "markdown",
   "metadata": {},
   "source": [
    "* Create a table that breaks down school performances based on average Spending Ranges (Per Student). Use 4 reasonable bins to group school spending. Include in the table each of the following:\n",
    "  * Average Math Score\n",
    "  * Average Reading Score\n",
    "  * % Passing Math\n",
    "  * % Passing Reading\n",
    "  * Overall Passing Rate (Average of the above two)"
   ]
  },
  {
   "cell_type": "code",
   "execution_count": null,
   "metadata": {},
   "outputs": [],
   "source": []
  },
  {
   "cell_type": "markdown",
   "metadata": {},
   "source": [
    "## Scores by School Size"
   ]
  },
  {
   "cell_type": "markdown",
   "metadata": {},
   "source": [
    "* Perform the same operations as above, based on school size."
   ]
  },
  {
   "cell_type": "code",
   "execution_count": null,
   "metadata": {
    "scrolled": true
   },
   "outputs": [],
   "source": []
  },
  {
   "cell_type": "markdown",
   "metadata": {},
   "source": [
    "## Scores by School Type"
   ]
  },
  {
   "cell_type": "markdown",
   "metadata": {},
   "source": [
    "* Perform the same operations as above, based on school type"
   ]
  },
  {
   "cell_type": "code",
   "execution_count": null,
   "metadata": {},
   "outputs": [],
   "source": []
  },
  {
   "cell_type": "code",
   "execution_count": null,
   "metadata": {},
   "outputs": [],
   "source": []
  }
 ],
 "metadata": {
  "anaconda-cloud": {},
  "kernel_info": {
   "name": "python3"
  },
  "kernelspec": {
   "display_name": "Python 3",
   "language": "python",
   "name": "python3"
  },
  "language_info": {
   "codemirror_mode": {
    "name": "ipython",
    "version": 3
   },
   "file_extension": ".py",
   "mimetype": "text/x-python",
   "name": "python",
   "nbconvert_exporter": "python",
   "pygments_lexer": "ipython3",
   "version": "3.6.10"
  },
  "latex_envs": {
   "LaTeX_envs_menu_present": true,
   "autoclose": false,
   "autocomplete": true,
   "bibliofile": "biblio.bib",
   "cite_by": "apalike",
   "current_citInitial": 1,
   "eqLabelWithNumbers": true,
   "eqNumInitial": 1,
   "hotkeys": {
    "equation": "Ctrl-E",
    "itemize": "Ctrl-I"
   },
   "labels_anchors": false,
   "latex_user_defs": false,
   "report_style_numbering": false,
   "user_envs_cfg": false
  },
  "nteract": {
   "version": "0.8.4"
  }
 },
 "nbformat": 4,
 "nbformat_minor": 1
}

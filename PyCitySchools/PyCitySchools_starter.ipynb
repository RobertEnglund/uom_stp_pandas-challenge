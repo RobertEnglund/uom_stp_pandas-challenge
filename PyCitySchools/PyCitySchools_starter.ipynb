{
 "cells": [
  {
   "cell_type": "markdown",
   "metadata": {},
   "source": [
    "### Note\n",
    "* Instructions have been included for each segment. You do not have to follow them exactly, but they are included to help you think through the steps."
   ]
  },
  {
   "cell_type": "code",
   "execution_count": null,
   "metadata": {},
   "outputs": [],
   "source": [
    "# Dependencies and Setup\n",
    "import pandas as pd\n",
    "import numpy as np\n",
    "\n",
    "# File to Load (Remember to Change These)\n",
    "school_data_to_load = \"Resources/schools_complete.csv\"\n",
    "student_data_to_load = \"Resources/students_complete.csv\"\n",
    "\n",
    "# Read School and Student Data File and store into Pandas DataFrames\n",
    "school_data = pd.read_csv(school_data_to_load)\n",
    "student_data = pd.read_csv(student_data_to_load)\n",
    "\n",
    "# Rename \"size\" to clarify that it refers to number of students, not area or other measure of size\n",
    "school_data = school_data.rename(columns={\"size\":\"enrollment\"})\n",
    "school_data[\"per_student_budget\"] = school_data[\"budget\"] / school_data[\"enrollment\"]\n",
    "\n",
    "# Initial evaluation of student performance: add count of 1 to indicate that student is passing\n",
    "student_data.loc[student_data[\"math_score\"] >= 70, \"count_passing_math\"] = 1\n",
    "student_data.loc[student_data[\"math_score\"] < 70, \"count_passing_math\"] = 0\n",
    "student_data.loc[student_data[\"reading_score\"] >= 70, \"count_passing_reading\"] = 1\n",
    "student_data.loc[student_data[\"reading_score\"] < 70, \"count_passing_reading\"] = 0\n",
    "student_data.loc[student_data[\"count_passing_math\"] + student_data[\"count_passing_reading\"] == 2, \"count_passing_overall\"] = 1\n",
    "student_data.loc[student_data[\"count_passing_math\"] + student_data[\"count_passing_reading\"] < 2, \"count_passing_overall\"] = 0\n",
    "\n",
    "# Combine the data into a single dataset.  \n",
    "school_data_complete = pd.merge(student_data, school_data, how=\"left\", on=[\"school_name\", \"school_name\"])\n",
    "school_data_complete.head()"
   ]
  },
  {
   "cell_type": "code",
   "execution_count": null,
   "metadata": {},
   "outputs": [],
   "source": [
    "# Evaluate data sets\n",
    "school_data.columns\n",
    "# Index(['School ID', 'school_name', 'type', 'size', 'budget'], dtype='object')\n",
    "# school_data[\"school_name\"].count()\n",
    "# 15 records\n",
    "# size = count of students attending school_name\n"
   ]
  },
  {
   "cell_type": "code",
   "execution_count": null,
   "metadata": {},
   "outputs": [],
   "source": [
    "# student_data[\"Student ID\"].nunique()\n",
    "# Index(['Student ID', 'student_name', 'gender', 'grade', 'school_name','reading_score', 'math_score'],\n",
    "#      dtype='object')\n",
    "# student_data.count()\n",
    "# 39170 records, 39170 unique student IDs"
   ]
  },
  {
   "cell_type": "markdown",
   "metadata": {},
   "source": [
    "## District Summary\n",
    "\n",
    "* Calculate the total number of schools\n",
    "\n",
    "* Calculate the total number of students\n",
    "\n",
    "* Calculate the total budget\n",
    "\n",
    "* Calculate the average math score \n",
    "\n",
    "* Calculate the average reading score\n",
    "\n",
    "* Calculate the percentage of students with a passing math score (70 or greater)\n",
    "\n",
    "* Calculate the percentage of students with a passing reading score (70 or greater)\n",
    "\n",
    "* Calculate the percentage of students who passed math **and** reading (% Overall Passing)\n",
    "\n",
    "* Create a dataframe to hold the above results\n",
    "\n",
    "* Optional: give the displayed data cleaner formatting"
   ]
  },
  {
   "cell_type": "markdown",
   "metadata": {},
   "source": [
    "## Assumptions\n",
    "\n",
    "* All schools in the input file are part of the same district:\n",
    "\n",
    "    * because District identifier is not part of the input file\n",
    "\n",
    "    * in spite of type values in file = \"District\", \"Charter\"\n",
    "\n",
    "\n",
    "* All students in the input file are part of the same district:\n",
    "\n",
    "    * all schools in the student file are found in the school file\n",
    "\n",
    "    * and all schools in the school file are assumed part of same district (see above)\n"
   ]
  },
  {
   "cell_type": "code",
   "execution_count": null,
   "metadata": {},
   "outputs": [],
   "source": [
    "# Calculate the total number of schools\n",
    "##total_schools = school_data_complete[\"school_name\"].nunique()\n",
    "##total_schools = len(school_data)\n",
    "##total_schools = school_data[\"school_name\"].count()\n",
    "total_schools = school_data[\"school_name\"].nunique()\n",
    "\n",
    "# Calculate the total number of students\n",
    "total_students = school_data[\"enrollment\"].sum()\n",
    "\n",
    "# Calculate the total budget\n",
    "total_budget = school_data[\"budget\"].sum()\n",
    "\n",
    "# Calculate average math score\n",
    "avg_math_score = student_data[\"math_score\"].mean()\n",
    "\n",
    "# Calculate average reading score\n",
    "avg_reading_score = student_data[\"reading_score\"].mean()\n",
    "\n",
    "# Calculate the percentage of students with a passing math score (70 or greater)\n",
    "passing_math_pct = (student_data[\"count_passing_math\"].sum()/total_students)*100\n",
    "\n",
    "# Calculate the percentage of students with a passing reading score (70 or greater)\n",
    "passing_reading_pct = (student_data[\"count_passing_reading\"].sum()/total_students)*100\n",
    "\n",
    "# Calculate the percentage of students who passed math and reading (% Overall Passing)\n",
    "passing_overall_pct = (student_data[\"count_passing_overall\"].sum()/total_students)*100\n",
    "\n",
    "# Create dataframe of results \n",
    "district_summary_df = pd.DataFrame({\"Total Schools\" : [total_schools],\n",
    "                                    \"Total Students\" : total_students,\n",
    "                                    \"Total Budget\" : total_budget,\n",
    "                                    \"Average Math Score\" : avg_math_score,\n",
    "                                    \"Average Reading Score\" : avg_reading_score,\n",
    "                                    \"Percent Passing Math\" : passing_math_pct,\n",
    "                                    \"Percent Passing Reading\" : passing_reading_pct,\n",
    "                                    \"Percent Passing Overall\" : passing_overall_pct                                       \n",
    "                                   })\n",
    "\n",
    "# Format numbers for display\n",
    "district_summary_df[\"Total Students\"] = district_summary_df[\"Total Students\"].astype(float).map(\"{:,.0f}\".format)\n",
    "district_summary_df[\"Total Budget\"] = district_summary_df[\"Total Budget\"].astype(float).map(\"${:,.0f}\".format)\n",
    "district_summary_df[\"Average Math Score\"] = district_summary_df[\"Average Math Score\"].astype(float).map(\"{:,.1f}\".format)\n",
    "district_summary_df[\"Average Reading Score\"] = district_summary_df[\"Average Reading Score\"].astype(float).map(\"{:,.1f}\".format)\n",
    "district_summary_df[\"Percent Passing Math\"] = district_summary_df[\"Percent Passing Math\"].astype(float).map(\"{:,.1f}%\".format)\n",
    "district_summary_df[\"Percent Passing Reading\"] = district_summary_df[\"Percent Passing Reading\"].astype(float).map(\"{:,.1f}%\".format)\n",
    "district_summary_df[\"Percent Passing Overall\"] = district_summary_df[\"Percent Passing Overall\"].astype(float).map(\"{:,.1f}%\".format)\n",
    "\n",
    "district_summary_df"
   ]
  },
  {
   "cell_type": "markdown",
   "metadata": {},
   "source": [
    "## School Summary"
   ]
  },
  {
   "cell_type": "markdown",
   "metadata": {},
   "source": [
    "* Create an overview table that summarizes key metrics about each school, including:\n",
    "  * School Name\n",
    "  * School Type\n",
    "  * Total Students\n",
    "  * Total School Budget\n",
    "  * Per Student Budget\n",
    "  * Average Math Score\n",
    "  * Average Reading Score\n",
    "  * % Passing Math\n",
    "  * % Passing Reading\n",
    "  * % Overall Passing (The percentage of students that passed math **and** reading.)\n",
    "  \n",
    "* Create a dataframe to hold the above results"
   ]
  },
  {
   "cell_type": "code",
   "execution_count": null,
   "metadata": {},
   "outputs": [],
   "source": [
    "# set up student data grouped by school\n",
    "school_group = student_data.groupby([\"school_name\"])\n",
    "\n",
    "# set up school summary dataframe with static values\n",
    "school_summary_df = school_data[[\"school_name\", \"type\", \"enrollment\", \"budget\", \"per_student_budget\"]]\n",
    "\n",
    "# calc average scores and total counts of students passing by school\n",
    "school_avg_math_scores_df = school_group[\"math_score\"].mean()\n",
    "school_avg_reading_scores_df = school_group[\"reading_score\"].mean()\n",
    "school_passing_math_df = school_group[\"count_passing_math\"].sum()\n",
    "school_passing_reading_df = school_group[\"count_passing_reading\"].sum()\n",
    "school_passing_overall_df = school_group[\"count_passing_overall\"].sum()\n",
    "\n",
    "# add calculated values to school summary dataframe\n",
    "school_group = school_data_complete.groupby([\"school_name\"])\n",
    "school_summary_df = pd.merge(school_summary_df, school_avg_math_scores_df, on=\"school_name\")\n",
    "school_summary_df = pd.merge(school_summary_df, school_avg_reading_scores_df, on=\"school_name\")\n",
    "school_summary_df = pd.merge(school_summary_df, school_passing_math_df, on=\"school_name\")\n",
    "school_summary_df = pd.merge(school_summary_df, school_passing_reading_df, on=\"school_name\")\n",
    "school_summary_df = pd.merge(school_summary_df, school_passing_overall_df, on=\"school_name\")\n",
    "\n",
    "# calc percent of students passing fields\n",
    "school_summary_df[\"pct_passing_math\"] = (school_summary_df[\"count_passing_math\"] / school_summary_df[\"enrollment\"])*100\n",
    "school_summary_df[\"pct_passing_reading\"] = (school_summary_df[\"count_passing_reading\"] / school_summary_df[\"enrollment\"])*100\n",
    "school_summary_df[\"pct_passing_overall\"] = (school_summary_df[\"count_passing_overall\"] / school_summary_df[\"enrollment\"])*100\n",
    "\n",
    "# remove total students passing fields\n",
    "school_summary_df = school_summary_df[[\"school_name\", \"type\", \"enrollment\", \"budget\", \"per_student_budget\",\n",
    "                                   \"math_score\", \"reading_score\", \n",
    "                                    \"pct_passing_math\", \"pct_passing_reading\", \"pct_passing_overall\"\n",
    "                                    ]]\n",
    "\n",
    "# rename fields for display\n",
    "school_summary_df = school_summary_df.rename(columns={\"school_name\" : \"School\",\n",
    "                                                      \"type\" : \"Type\",\n",
    "                                                      \"enrollment\" : \"Enrollment\",\n",
    "                                                      \"budget\" : \"Budget\",\n",
    "                                                      \"per_student_budget\" : \"Budget / Student\",\n",
    "                                                      \"math_score\" : \"Average Math Score\", \n",
    "                                                      \"reading_score\" : \"Average Reading Score\",\n",
    "                                                      \"pct_passing_math\" : \"Percent Passing Math\",\n",
    "                                                      \"pct_passing_reading\" : \"Percent Passing Reading\",\n",
    "                                                      \"pct_passing_overall\" : \"Percent Passing Overall\"\n",
    "                                                        })\n",
    "\n",
    "# Create Budget bins for later on\n",
    "bins = [0, 600, 625, 650, 700]\n",
    "group_names = [\"4 -Low\", \"3 - Med-Low\", \"2 - Med-High\", \"1 - High\"]\n",
    "school_summary_df[\"Budget Grouping\"] = pd.cut(school_summary_df[\"Budget / Student\"], bins, labels=group_names, include_lowest=True)\n",
    "\n",
    "# Create Size bins for later on\n",
    "bins = [0, 1500, 2750, 4000, 5000]\n",
    "group_names = [\"4 - Small\", \"3 - Med-Small\", \"2 - Med-Large\", \"1 - Large\"]\n",
    "school_summary_df[\"Size Grouping\"] = pd.cut(school_summary_df[\"Enrollment\"], bins, labels=group_names, include_lowest=True)\n",
    "\n",
    "unformatted_school_summary_df = school_summary_df\n",
    "\n",
    "\n",
    "# format numeric fields in dataframe for display\n",
    "school_summary_df[\"Enrollment\"] = school_summary_df[\"Enrollment\"].astype(int).map(\"{:,}\".format)\n",
    "school_summary_df[\"Budget\"] = school_summary_df[\"Budget\"].astype(float).map(\"${:,.0f}\".format)\n",
    "school_summary_df[\"Average Math Score\"] = school_summary_df[\"Average Math Score\"].astype(float).map(\"{:,.1f}\".format)\n",
    "school_summary_df[\"Average Reading Score\"] = school_summary_df[\"Average Reading Score\"].astype(float).map(\"{:,.1f}\".format)\n",
    "school_summary_df[\"Percent Passing Math\"] = school_summary_df[\"Percent Passing Math\"].astype(float).map(\"{:,.1f}%\".format)\n",
    "school_summary_df[\"Percent Passing Reading\"] = school_summary_df[\"Percent Passing Reading\"].astype(float).map(\"{:,.1f}%\".format)\n",
    "school_summary_df[\"Percent Passing Overall\"] = school_summary_df[\"Percent Passing Overall\"].astype(float).map(\"{:,.1f}%\".format)\n",
    "\n",
    "display_school_summary_df = school_summary_df[[\"School\", \"Type\", \"Enrollment\", \"Budget\", \"Budget / Student\", \n",
    "                                        \"Average Math Score\", \"Average Reading Score\", \n",
    "                                        \"Percent Passing Math\", \"Percent Passing Reading\", \"Percent Passing Overall\"\n",
    "                                       ]]\n",
    "display_school_summary_df\n",
    "\n",
    "# Note to grader:  GitHub seems to have problems rendering this output\n",
    "# Please see \"School_Summary_output_in_jupyter\" in Images folder for screenshot from Jupyter \n"
   ]
  },
  {
   "cell_type": "markdown",
   "metadata": {},
   "source": [
    "## Top Performing Schools (By % Overall Passing)"
   ]
  },
  {
   "cell_type": "markdown",
   "metadata": {},
   "source": [
    "* Sort and display the top five performing schools by % overall passing."
   ]
  },
  {
   "cell_type": "code",
   "execution_count": null,
   "metadata": {
    "scrolled": true
   },
   "outputs": [],
   "source": [
    "#sort school summary by overall passing pct, descending\n",
    "sorted_school_summary_df = display_school_summary_df.sort_values(by='Percent Passing Overall', ascending=False)\n",
    "sorted_school_summary_df.head()\n",
    "\n",
    "# Note to grader:  GitHub seems to have problems rendering this output\n",
    "# Please see \"Top_Performing_output_in_jupyter\" in Images folder for screenshot from Jupyter "
   ]
  },
  {
   "cell_type": "markdown",
   "metadata": {},
   "source": [
    "## Bottom Performing Schools (By % Overall Passing)"
   ]
  },
  {
   "cell_type": "markdown",
   "metadata": {},
   "source": [
    "* Sort and display the five worst-performing schools by % overall passing."
   ]
  },
  {
   "cell_type": "code",
   "execution_count": null,
   "metadata": {},
   "outputs": [],
   "source": [
    "#sort school summary by overall passing pct, ascending\n",
    "sorted_school_summary_df = display_school_summary_df.sort_values(by='Percent Passing Overall',ascending=True)\n",
    "sorted_school_summary_df.head()\n",
    "\n",
    "# Note to grader:  GitHub seems to have problems rendering this output\n",
    "# Please see \"Bottom_Performing_output_in_jupyter\" in Images folder for screenshot from Jupyter "
   ]
  },
  {
   "cell_type": "markdown",
   "metadata": {
    "collapsed": true
   },
   "source": [
    "## Math Scores by Grade"
   ]
  },
  {
   "cell_type": "markdown",
   "metadata": {},
   "source": [
    "* Create a table that lists the average Reading Score for students of each grade level (9th, 10th, 11th, 12th) at each school.\n",
    "\n",
    "  * Create a pandas series for each grade. Hint: use a conditional statement.\n",
    "  \n",
    "  * Group each series by school\n",
    "  \n",
    "  * Combine the series into a dataframe\n",
    "  \n",
    "  * Optional: give the displayed data cleaner formatting"
   ]
  },
  {
   "cell_type": "code",
   "execution_count": null,
   "metadata": {},
   "outputs": [],
   "source": [
    "# to do:  remove duplicated logic in this block and reading scores block\n",
    "#\n",
    "# set up student data grouped by school and grade\n",
    "scores_by_grade = student_data.groupby([\"school_name\", \"grade\"])\n",
    "\n",
    "# get average math score by school and grade\n",
    "math_scores_df = scores_by_grade.mean()\n",
    "math_scores_df = math_scores_df[[\"math_score\"]]\n",
    "\n",
    "# sort by school and grade\n",
    "# make school and grade columns, not indices (code to create a numeric field from \"grade\" was failing before \"grade\" to column)\n",
    "#   (note to self: for better understanding, read more about indices vs columns)\n",
    "math_scores_df.reset_index(inplace=True)\n",
    "# create a numeric grade field so 9th grade comes before other grades in final table\n",
    "conditions = [\n",
    "    (math_scores_df[\"grade\"] == \"9th\"),\n",
    "    (math_scores_df[\"grade\"] == \"10th\"),\n",
    "    (math_scores_df[\"grade\"] == \"11th\"),\n",
    "    (math_scores_df[\"grade\"] == \"12th\")]\n",
    "choices = [9, 10, 11, 12]\n",
    "math_scores_df[\"sort_field\"] = np.select(conditions, choices, default=0)\n",
    "sorted_math_scores_df = math_scores_df.sort_values(by=[\"school_name\",\"sort_field\"])\n",
    "\n",
    "# format for display\n",
    "sorted_math_scores_df = sorted_math_scores_df[[\"school_name\", \"grade\",\"math_score\"]]\n",
    "sorted_math_scores_df[\"math_score\"] = sorted_math_scores_df[\"math_score\"].astype(float).map(\"{:,.1f}%\".format)\n",
    "sorted_math_scores_df = sorted_math_scores_df.rename(columns={\"school_name\" : \"School\", \"grade\" : \"Grade\", \"math_score\" : \"Avg Math Score\"})\n",
    "\n",
    "sorted_math_scores_df\n",
    "\n"
   ]
  },
  {
   "cell_type": "markdown",
   "metadata": {},
   "source": [
    "## Reading Score by Grade "
   ]
  },
  {
   "cell_type": "markdown",
   "metadata": {},
   "source": [
    "* Perform the same operations as above for reading scores"
   ]
  },
  {
   "cell_type": "code",
   "execution_count": null,
   "metadata": {},
   "outputs": [],
   "source": [
    "# set up student data grouped by school and grade\n",
    "#scores_by_grade = student_data.groupby([\"school_name\", \"grade\"])\n",
    "\n",
    "# get average math score by school and grade\n",
    "reading_scores_df = scores_by_grade.mean()\n",
    "reading_scores_df = reading_scores_df[[\"reading_score\"]]\n",
    "\n",
    "# sort by school and grade\n",
    "# make school and grade columns, not indices (code to create a numeric field from \"grade\" was failing before \"grade\" to column)\n",
    "reading_scores_df.reset_index(inplace=True)\n",
    "# create a numeric grade field so 9th grade comes before other grades in final table\n",
    "conditions = [\n",
    "    (reading_scores_df[\"grade\"] == \"9th\"),\n",
    "    (reading_scores_df[\"grade\"] == \"10th\"),\n",
    "    (reading_scores_df[\"grade\"] == \"11th\"),\n",
    "    (reading_scores_df[\"grade\"] == \"12th\")]\n",
    "choices = [9, 10, 11, 12]\n",
    "reading_scores_df[\"sort_field\"] = np.select(conditions, choices, default=0)\n",
    "sorted_reading_scores_df = reading_scores_df.sort_values(by=[\"school_name\",\"sort_field\"])\n",
    "\n",
    "# format for display\n",
    "sorted_reading_scores_df = sorted_reading_scores_df[[\"school_name\", \"grade\",\"reading_score\"]]\n",
    "sorted_reading_scores_df[\"reading_score\"] = sorted_reading_scores_df[\"reading_score\"].astype(float).map(\"{:,.1f}%\".format)\n",
    "sorted_reading_scores_df = sorted_reading_scores_df.rename(columns={\"school_name\" : \"School\", \"grade\" : \"Grade\", \"reading_score\" : \"Avg Reading Score\"})\n",
    "\n",
    "sorted_reading_scores_df\n"
   ]
  },
  {
   "cell_type": "markdown",
   "metadata": {},
   "source": [
    "## Scores by School Spending"
   ]
  },
  {
   "cell_type": "markdown",
   "metadata": {},
   "source": [
    "* Create a table that breaks down school performances based on average Spending Ranges (Per Student). Use 4 reasonable bins to group school spending. Include in the table each of the following:\n",
    "  * Average Math Score\n",
    "  * Average Reading Score\n",
    "  * % Passing Math\n",
    "  * % Passing Reading\n",
    "  * Overall Passing Rate (Average of the above two)"
   ]
  },
  {
   "cell_type": "code",
   "execution_count": null,
   "metadata": {},
   "outputs": [],
   "source": [
    "# Not clear me what output should look like, so creating two:\n",
    "#    1.  Avgs and Pcts by school within Spending Range\n",
    "#    2.  Avgs and Pcts by Spending Range (i.e, all schools within spending range)\n",
    "#\n",
    "#  Same for School Size and Type, below\n",
    "\n",
    "\n",
    "# Create a table of avgs and pcts by school within Spending Range\n",
    "\n",
    "\n",
    "# Bins created earlier, before formatting\n",
    "school_spending_df = school_summary_df[[\"Budget Grouping\", \"Budget / Student\", \"School\", \"Average Math Score\", \"Average Reading Score\",\n",
    "                                            \"Percent Passing Math\", \"Percent Passing Reading\", \"Percent Passing Overall\"\n",
    "                                        ]]\n",
    "\n",
    "# not sure why ascending=False produces order shown\n",
    "sorted_school_spending_df = school_spending_df.sort_values(by=\"Budget Grouping\", ascending=False)\n",
    "\n",
    "sorted_school_spending_df\n"
   ]
  },
  {
   "cell_type": "code",
   "execution_count": null,
   "metadata": {},
   "outputs": [],
   "source": [
    "# Create a table of avgs and pcts by Spending Range\n",
    "\n",
    "# Create a table of averages by Type\n",
    "budget_group = school_summary_df.groupby([\"Budget Grouping\"])\n",
    "\n",
    "# calc average scores and total counts of students passing by school\n",
    "#budget_summary_df = budget_group[\"Average Math Score\"].mean()\n",
    "\n",
    "school_summary_df.dtypes\n"
   ]
  },
  {
   "cell_type": "code",
   "execution_count": null,
   "metadata": {},
   "outputs": [],
   "source": [
    "\n",
    "# calc average scores and total counts of students passing by school\n",
    "type_summary_df = type_group[\"math_score\"].mean()\n",
    "type_summary_df = pd.merge(type_summary_df, type_group[\"reading_score\"].mean(), on=\"type\")\n",
    "type_summary_df = pd.merge(type_summary_df, type_group[\"count_passing_math\"].sum(), on=\"type\")\n",
    "type_summary_df = pd.merge(type_summary_df, type_group[\"count_passing_reading\"].sum(), on=\"type\")\n",
    "type_summary_df = pd.merge(type_summary_df, type_group[\"count_passing_overall\"].sum(), on=\"type\")\n",
    "\n",
    "# calc total enrollment by type\n",
    "type_group2 = school_data.groupby([\"type\"])\n",
    "type_summary_df = pd.merge(type_summary_df, type_group2[\"enrollment\"].sum(), on=\"type\")\n",
    "\n",
    "# calc percent of students passing fields\n",
    "type_summary_df[\"pct_passing_math\"] = (type_summary_df[\"count_passing_math\"] / type_summary_df[\"enrollment\"])*100\n",
    "type_summary_df[\"pct_passing_reading\"] = (type_summary_df[\"count_passing_reading\"] / type_summary_df[\"enrollment\"])*100\n",
    "type_summary_df[\"pct_passing_overall\"] = (type_summary_df[\"count_passing_overall\"] / type_summary_df[\"enrollment\"])*100\n",
    "\n",
    "# remove total students passing fields\n",
    "type_summary_df = type_summary_df[[\"math_score\", \"reading_score\", \n",
    "                                    \"pct_passing_math\", \"pct_passing_reading\", \"pct_passing_overall\"\n",
    "                                    ]]\n",
    "\n",
    "type_summary_df"
   ]
  },
  {
   "cell_type": "markdown",
   "metadata": {},
   "source": [
    "## Scores by School Size"
   ]
  },
  {
   "cell_type": "markdown",
   "metadata": {},
   "source": [
    "* Perform the same operations as above, based on school size."
   ]
  },
  {
   "cell_type": "code",
   "execution_count": null,
   "metadata": {
    "scrolled": true
   },
   "outputs": [],
   "source": [
    "# Bins created earlier, before formatting\n",
    "school_spending_df = school_summary_df[[\"Size Grouping\", \"Enrollment\", \"School\", \"Average Math Score\", \"Average Reading Score\",\n",
    "                                            \"Percent Passing Math\", \"Percent Passing Reading\", \"Percent Passing Overall\"\n",
    "                                        ]]\n",
    "\n",
    "sorted_school_spending_df = school_spending_df.sort_values(by=\"Size Grouping\", ascending=False)\n"
   ]
  },
  {
   "cell_type": "code",
   "execution_count": null,
   "metadata": {},
   "outputs": [],
   "source": [
    "# Create a table of avgs and pcts by School Size"
   ]
  },
  {
   "cell_type": "markdown",
   "metadata": {},
   "source": [
    "## Scores by School Type"
   ]
  },
  {
   "cell_type": "markdown",
   "metadata": {},
   "source": [
    "* Perform the same operations as above, based on school type"
   ]
  },
  {
   "cell_type": "code",
   "execution_count": null,
   "metadata": {},
   "outputs": [],
   "source": [
    "# Create a table of school averages grouped by Type\n",
    "\n",
    "school_type_df = school_summary_df[[\"Type\", \"School\", \"Average Math Score\", \"Average Reading Score\",\n",
    "                                            \"Percent Passing Math\", \"Percent Passing Reading\", \"Percent Passing Overall\"\n",
    "                                        ]]\n",
    "\n",
    "sorted_school_type_df = school_type_df.sort_values(by=\"Type\", ascending=False)\n",
    "sorted_school_type_df"
   ]
  },
  {
   "cell_type": "code",
   "execution_count": null,
   "metadata": {},
   "outputs": [],
   "source": [
    "# Create a table of averages by Type\n",
    "\n",
    "type_group = school_data_complete.groupby([\"type\"])\n",
    "\n",
    "# calc average scores and total counts of students passing by school\n",
    "type_summary_df = type_group[\"math_score\"].mean()\n",
    "type_summary_df = pd.merge(type_summary_df, type_group[\"reading_score\"].mean(), on=\"type\")\n",
    "type_summary_df = pd.merge(type_summary_df, type_group[\"count_passing_math\"].sum(), on=\"type\")\n",
    "type_summary_df = pd.merge(type_summary_df, type_group[\"count_passing_reading\"].sum(), on=\"type\")\n",
    "type_summary_df = pd.merge(type_summary_df, type_group[\"count_passing_overall\"].sum(), on=\"type\")\n",
    "\n",
    "# calc total enrollment by type\n",
    "type_group2 = school_data.groupby([\"type\"])\n",
    "type_summary_df = pd.merge(type_summary_df, type_group2[\"enrollment\"].sum(), on=\"type\")\n",
    "\n",
    "# calc percent of students passing fields\n",
    "type_summary_df[\"pct_passing_math\"] = (type_summary_df[\"count_passing_math\"] / type_summary_df[\"enrollment\"])*100\n",
    "type_summary_df[\"pct_passing_reading\"] = (type_summary_df[\"count_passing_reading\"] / type_summary_df[\"enrollment\"])*100\n",
    "type_summary_df[\"pct_passing_overall\"] = (type_summary_df[\"count_passing_overall\"] / type_summary_df[\"enrollment\"])*100\n",
    "\n",
    "# remove total students passing fields\n",
    "type_summary_df = type_summary_df[[\"math_score\", \"reading_score\", \n",
    "                                    \"pct_passing_math\", \"pct_passing_reading\", \"pct_passing_overall\"\n",
    "                                    ]]\n",
    "\n",
    "type_summary_df"
   ]
  },
  {
   "cell_type": "code",
   "execution_count": null,
   "metadata": {},
   "outputs": [],
   "source": []
  }
 ],
 "metadata": {
  "anaconda-cloud": {},
  "kernel_info": {
   "name": "python3"
  },
  "kernelspec": {
   "display_name": "Python 3",
   "language": "python",
   "name": "python3"
  },
  "language_info": {
   "codemirror_mode": {
    "name": "ipython",
    "version": 3
   },
   "file_extension": ".py",
   "mimetype": "text/x-python",
   "name": "python",
   "nbconvert_exporter": "python",
   "pygments_lexer": "ipython3",
   "version": "3.6.10"
  },
  "latex_envs": {
   "LaTeX_envs_menu_present": true,
   "autoclose": false,
   "autocomplete": true,
   "bibliofile": "biblio.bib",
   "cite_by": "apalike",
   "current_citInitial": 1,
   "eqLabelWithNumbers": true,
   "eqNumInitial": 1,
   "hotkeys": {
    "equation": "Ctrl-E",
    "itemize": "Ctrl-I"
   },
   "labels_anchors": false,
   "latex_user_defs": false,
   "report_style_numbering": false,
   "user_envs_cfg": false
  },
  "nteract": {
   "version": "0.8.4"
  }
 },
 "nbformat": 4,
 "nbformat_minor": 1
}
